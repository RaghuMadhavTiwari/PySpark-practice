{
  "nbformat": 4,
  "nbformat_minor": 0,
  "metadata": {
    "colab": {
      "provenance": [],
      "collapsed_sections": [],
      "authorship_tag": "ABX9TyMG03s/DS9v7LcF5eFZAQLo",
      "include_colab_link": true
    },
    "kernelspec": {
      "name": "python3",
      "display_name": "Python 3"
    },
    "language_info": {
      "name": "python"
    }
  },
  "cells": [
    {
      "cell_type": "markdown",
      "metadata": {
        "id": "view-in-github",
        "colab_type": "text"
      },
      "source": [
        "<a href=\"https://colab.research.google.com/github/RaghuMadhavTiwari/PySpark-practice/blob/main/IntroToPySpark.ipynb\" target=\"_parent\"><img src=\"https://colab.research.google.com/assets/colab-badge.svg\" alt=\"Open In Colab\"/></a>"
      ]
    },
    {
      "cell_type": "code",
      "execution_count": null,
      "metadata": {
        "colab": {
          "base_uri": "https://localhost:8080/",
          "height": 209
        },
        "id": "LR3evzeuKgmo",
        "outputId": "bcb1c54e-9648-47d9-f79d-3edd1c9953dd"
      },
      "outputs": [
        {
          "output_type": "execute_result",
          "data": {
            "text/plain": [
              "'\\n# installation\\n!pip install pyspark\\n\\n# testing\\nfrom pyspark.sql import SparkSession\\n\\n\\nspark = SparkSession .builder .appName(\"Python Spark create RDD example\") .config(\"spark.some.config.option\", \"some-value\") .getOrCreate()\\ndf = spark.sparkContext.parallelize([(1, 2, 3, \\'a b c\\'),\\n(4, 5, 6, \\'d e f\\'),\\n(7, 8, 9, \\'g h i\\')]).toDF([\\'col1\\', \\'col2\\', \\'col3\\',\\'col4\\'])\\ndf.show()\\n\\n# creating a spark context\\nfrom pyspark import SparkContext\\nsc = SparkContext(\"local\", \"Simple App\")\\n\\n\\nfrom pyspark.sql import SparkSession\\n\\n#Create a Spark Session\\nspark = SparkSession     .builder     .master(\"local[2]\")     .appName(\"V2 Maestros\")     .config(\"spark.executor.memory\", \"1g\")     .config(\"spark.cores.max\",\"2\")     .config(\"spark.sql.warehouse.dir\", \"file:///c:/temp/spark-warehouse\")    .getOrCreate()\\n'"
            ],
            "application/vnd.google.colaboratory.intrinsic+json": {
              "type": "string"
            }
          },
          "metadata": {},
          "execution_count": 1
        }
      ],
      "source": [
        "'''\n",
        "# installation\n",
        "!pip install pyspark\n",
        "\n",
        "# testing\n",
        "from pyspark.sql import SparkSession\n",
        "\n",
        "\n",
        "spark = SparkSession \\\n",
        ".builder \\\n",
        ".appName(\"Python Spark create RDD example\") \\\n",
        ".config(\"spark.some.config.option\", \"some-value\") \\\n",
        ".getOrCreate()\n",
        "df = spark.sparkContext\\\n",
        ".parallelize([(1, 2, 3, 'a b c'),\n",
        "(4, 5, 6, 'd e f'),\n",
        "(7, 8, 9, 'g h i')])\\\n",
        ".toDF(['col1', 'col2', 'col3','col4'])\n",
        "df.show()\n",
        "\n",
        "# creating a spark context\n",
        "from pyspark import SparkContext\n",
        "sc = SparkContext(\"local\", \"Simple App\")\n",
        "\n",
        "\n",
        "from pyspark.sql import SparkSession\n",
        "\n",
        "#Create a Spark Session\n",
        "spark = SparkSession \\\n",
        "    .builder \\\n",
        "    .master(\"local[2]\") \\\n",
        "    .appName(\"V2 Maestros\") \\\n",
        "    .config(\"spark.executor.memory\", \"1g\") \\\n",
        "    .config(\"spark.cores.max\",\"2\") \\\n",
        "    .config(\"spark.sql.warehouse.dir\", \"file:///c:/temp/spark-warehouse\")\\\n",
        "    .getOrCreate()\n",
        "'''"
      ]
    },
    {
      "cell_type": "code",
      "source": [
        "!apt-get install openjdk-8-jdk-headless -qq > /dev/null\n",
        "!wget -q http://archive.apache.org/dist/spark/spark-3.1.1/spark-3.1.1-bin-hadoop3.2.tgz\n",
        "!tar xf spark-3.1.1-bin-hadoop3.2.tgz\n",
        "!pip install -q findspark\n",
        "import os\n",
        "os.environ[\"JAVA_HOME\"] = \"/usr/lib/jvm/java-8-openjdk-amd64\"\n",
        "os.environ[\"SPARK_HOME\"] = \"/content/spark-3.1.1-bin-hadoop3.2\"\n",
        "!ls"
      ],
      "metadata": {
        "colab": {
          "base_uri": "https://localhost:8080/"
        },
        "id": "DGq9a6b9LHSZ",
        "outputId": "b5e37303-a1bf-45af-aa08-f9b9a846da1f"
      },
      "execution_count": null,
      "outputs": [
        {
          "output_type": "stream",
          "name": "stdout",
          "text": [
            "sample1.txt  Sample-Spreadsheet-100-rows.csv  spark-3.1.1-bin-hadoop3.2.tgz\n",
            "sample_data  spark-3.1.1-bin-hadoop3.2\n"
          ]
        }
      ]
    },
    {
      "cell_type": "code",
      "source": [
        "import findspark\n",
        "findspark.init()\n",
        "from pyspark.sql import SparkSession\n",
        "spark = SparkSession.builder.master(\"local[*]\").getOrCreate()\n",
        "spark.conf.set(\"spark.sql.repl.eagerEval.enabled\", True) # Property used to format output tables better\n",
        "spark"
      ],
      "metadata": {
        "colab": {
          "base_uri": "https://localhost:8080/",
          "height": 219
        },
        "id": "s34El7eFfbgD",
        "outputId": "9d83ba51-da05-4d21-88d5-515556a31e05"
      },
      "execution_count": null,
      "outputs": [
        {
          "output_type": "execute_result",
          "data": {
            "text/plain": [
              "<pyspark.sql.session.SparkSession at 0x7f5f8a2c7bd0>"
            ],
            "text/html": [
              "\n",
              "            <div>\n",
              "                <p><b>SparkSession - in-memory</b></p>\n",
              "                \n",
              "        <div>\n",
              "            <p><b>SparkContext</b></p>\n",
              "\n",
              "            <p><a href=\"http://4676a9a86fed:4040\">Spark UI</a></p>\n",
              "\n",
              "            <dl>\n",
              "              <dt>Version</dt>\n",
              "                <dd><code>v3.1.1</code></dd>\n",
              "              <dt>Master</dt>\n",
              "                <dd><code>local[*]</code></dd>\n",
              "              <dt>AppName</dt>\n",
              "                <dd><code>pyspark-shell</code></dd>\n",
              "            </dl>\n",
              "        </div>\n",
              "        \n",
              "            </div>\n",
              "        "
            ]
          },
          "metadata": {},
          "execution_count": 3
        }
      ]
    },
    {
      "cell_type": "code",
      "source": [
        "from pyspark.sql.types import StructType\n",
        "sc = spark.sparkContext"
      ],
      "metadata": {
        "id": "y6TKnXs_Agvc"
      },
      "execution_count": null,
      "outputs": []
    },
    {
      "cell_type": "code",
      "source": [
        "rdd = sc.parallelize([1,2,3,4,5])\n",
        "rdd"
      ],
      "metadata": {
        "colab": {
          "base_uri": "https://localhost:8080/"
        },
        "id": "a-gzntE5CBBJ",
        "outputId": "dd7dde19-3141-484c-cb16-5d443b0e2ce0"
      },
      "execution_count": null,
      "outputs": [
        {
          "output_type": "execute_result",
          "data": {
            "text/plain": [
              "ParallelCollectionRDD[0] at readRDDFromFile at PythonRDD.scala:274"
            ]
          },
          "metadata": {},
          "execution_count": 5
        }
      ]
    },
    {
      "cell_type": "code",
      "source": [
        "filename = '/content/sample1.txt'\n",
        "rdd = sc.textFile(filename)"
      ],
      "metadata": {
        "id": "QnBU9N00CPI_"
      },
      "execution_count": null,
      "outputs": []
    },
    {
      "cell_type": "code",
      "source": [
        "# Print the version of SparkContext\n",
        "print(\"The version of Spark Context in the PySpark shell is\", sc.version)\n",
        "\n",
        "# Print the Python version of SparkContext\n",
        "print(\"The Python version of Spark Context in the PySpark shell is\", sc.pythonVer)\n",
        "\n",
        "# Print the master of SparkContext\n",
        "print(\"The master of Spark Context in the PySpark shell is\", sc.master)"
      ],
      "metadata": {
        "colab": {
          "base_uri": "https://localhost:8080/"
        },
        "id": "caFJypvfCY2o",
        "outputId": "79875307-5322-4134-9fc5-e0511e0917de"
      },
      "execution_count": null,
      "outputs": [
        {
          "output_type": "stream",
          "name": "stdout",
          "text": [
            "The version of Spark Context in the PySpark shell is 3.1.1\n",
            "The Python version of Spark Context in the PySpark shell is 3.7\n",
            "The master of Spark Context in the PySpark shell is local[*]\n"
          ]
        }
      ]
    },
    {
      "cell_type": "code",
      "source": [
        "# Create a Python list of numbers from 1 to 100 \n",
        "numb = range(1, 101)\n",
        "\n",
        "# Load the list into PySpark  \n",
        "spark_data = sc.parallelize(numb)"
      ],
      "metadata": {
        "id": "fN4sfk3JDICP"
      },
      "execution_count": null,
      "outputs": []
    },
    {
      "cell_type": "code",
      "source": [
        "# Load a local file into PySpark shell\n",
        "\n",
        "file_path ='/content/sample1.txt'\n",
        "lines = sc.textFile(file_path)"
      ],
      "metadata": {
        "id": "qCxQuG7RDI6n"
      },
      "execution_count": null,
      "outputs": []
    },
    {
      "cell_type": "code",
      "source": [
        "# Create an RDD from a list of words\n",
        "RDD = sc.parallelize([\"Spark\", \"is\", \"a\", \"framework\", \"for\", \"Big Data processing\"])\n",
        "\n",
        "# Print out the type of the created object\n",
        "print(\"The type of RDD is\", type(RDD))"
      ],
      "metadata": {
        "id": "yKukDn-xEhnA",
        "colab": {
          "base_uri": "https://localhost:8080/"
        },
        "outputId": "3ff46c72-4edb-40c6-8458-a78bfecabd05"
      },
      "execution_count": null,
      "outputs": [
        {
          "output_type": "stream",
          "name": "stdout",
          "text": [
            "The type of RDD is <class 'pyspark.rdd.RDD'>\n"
          ]
        }
      ]
    },
    {
      "cell_type": "code",
      "source": [
        "# Print the file_path\n",
        "print(\"The file_path is\", file_path)\n",
        "\n",
        "# Create a fileRDD from file_path\n",
        "fileRDD = sc.textFile(file_path)\n",
        "\n",
        "# Check the type of fileRDD\n",
        "print(\"The file type of fileRDD is\", type(fileRDD))"
      ],
      "metadata": {
        "colab": {
          "base_uri": "https://localhost:8080/"
        },
        "id": "8FV6eTaY3hRW",
        "outputId": "f2153416-da3a-4023-e006-59f2a8fcf2d0"
      },
      "execution_count": null,
      "outputs": [
        {
          "output_type": "stream",
          "name": "stdout",
          "text": [
            "The file_path is /content/sample1.txt\n",
            "The file type of fileRDD is <class 'pyspark.rdd.RDD'>\n"
          ]
        }
      ]
    },
    {
      "cell_type": "code",
      "source": [
        "# Check the number of partitions in fileRDD\n",
        "print(\"Number of partitions in fileRDD is\", fileRDD.getNumPartitions())\n",
        "\n",
        "# Create a fileRDD_part from file_path with 5 partitions\n",
        "fileRDD_part = sc.textFile(file_path, minPartitions = 5)\n",
        "\n",
        "# Check the number of partitions in fileRDD_part\n",
        "print(\"Number of partitions in fileRDD_part is\", fileRDD_part.getNumPartitions())"
      ],
      "metadata": {
        "colab": {
          "base_uri": "https://localhost:8080/"
        },
        "id": "AN7tfiRQEZ9o",
        "outputId": "70a2110a-640f-4932-8887-9629475a9b0b"
      },
      "execution_count": null,
      "outputs": [
        {
          "output_type": "stream",
          "name": "stdout",
          "text": [
            "Number of partitions in fileRDD is 2\n",
            "Number of partitions in fileRDD_part is 5\n"
          ]
        }
      ]
    },
    {
      "cell_type": "code",
      "source": [
        "#  Create map() transformation to cube numbers\n",
        "numbRDD = sc.parallelize(range(1,11))\n",
        "cubedRDD = numbRDD.map(lambda x: x**3)\n",
        "\n",
        "# Collect the results\n",
        "numbers_all = cubedRDD.collect()\n",
        "\n",
        "# Print the numbers from numbers_all\n",
        "for numb in numbers_all:\n",
        "\tprint(numb)"
      ],
      "metadata": {
        "colab": {
          "base_uri": "https://localhost:8080/"
        },
        "id": "env2onHIO20X",
        "outputId": "4c72c3b8-b4be-4427-e62a-065b8327ce12"
      },
      "execution_count": null,
      "outputs": [
        {
          "output_type": "stream",
          "name": "stdout",
          "text": [
            "1\n",
            "8\n",
            "27\n",
            "64\n",
            "125\n",
            "216\n",
            "343\n",
            "512\n",
            "729\n",
            "1000\n"
          ]
        }
      ]
    },
    {
      "cell_type": "code",
      "source": [
        "# Filter the fileRDD to select lines with Spark keyword\n",
        "fileRDD_filter = fileRDD.filter(lambda line: 'est' in line)\n",
        "\n",
        "# How many lines are there in fileRDD?\n",
        "print(\"The total number of lines with the keyword Spark is\", fileRDD_filter.count())\n",
        "\n",
        "# Print the first four lines of fileRDD\n",
        "for line in fileRDD_filter.take(4): \n",
        "  print(line)"
      ],
      "metadata": {
        "colab": {
          "base_uri": "https://localhost:8080/"
        },
        "id": "wiX1mcFuQGV8",
        "outputId": "3f0bbc9c-cf0c-4b43-a8b1-00a13e152432"
      },
      "execution_count": null,
      "outputs": [
        {
          "output_type": "stream",
          "name": "stdout",
          "text": [
            "The total number of lines with the keyword Spark is 2\n",
            "Utilitatis causa amicitia est quaesita.\n",
            "Lorem ipsum dolor sit amet, consectetur adipiscing elit. Collatio igitur ista te nihil iuvat. Honesta oratio, Socratica, Platonis etiam. Primum in nostrane potestate est, quid meminerimus? Duo Reges: constructio interrete. Quid, si etiam iucunda memoria est praeteritorum malorum? Si quidem, inquit, tollerem, sed relinquo. An nisi populari fama?\n"
          ]
        }
      ]
    },
    {
      "cell_type": "code",
      "source": [
        "# Create PairRDD Rdd with key value pairs\n",
        "Rdd = sc.parallelize([(1,2),(3,4),(3,6),(4,5)])\n",
        "\n",
        "# Apply reduceByKey() operation on Rdd\n",
        "Rdd_Reduced = Rdd.reduceByKey(lambda x, y: x + y)\n",
        "\n",
        "# Iterate over the result and print the output\n",
        "for num in Rdd_Reduced.collect(): \n",
        "  print(\"Key {} has {} Counts\".format(num[0], num[1]))"
      ],
      "metadata": {
        "colab": {
          "base_uri": "https://localhost:8080/"
        },
        "id": "usfbjiFVSk_V",
        "outputId": "7a4835c9-8fd0-4183-8239-3486e4a62a0f"
      },
      "execution_count": null,
      "outputs": [
        {
          "output_type": "stream",
          "name": "stdout",
          "text": [
            "Key 4 has 5 Counts\n",
            "Key 1 has 2 Counts\n",
            "Key 3 has 10 Counts\n"
          ]
        }
      ]
    },
    {
      "cell_type": "code",
      "source": [
        "# Sort the reduced RDD with the key by descending order\n",
        "Rdd_Reduced_Sort = Rdd_Reduced.sortByKey(ascending=False)\n",
        "\n",
        "# Iterate over the result and retrieve all the elements of the RDD\n",
        "for num in Rdd_Reduced_Sort.collect():\n",
        "  print(\"Key {} has {} Counts\".format(num[0], num[1]))"
      ],
      "metadata": {
        "colab": {
          "base_uri": "https://localhost:8080/"
        },
        "id": "5iiSUMjomDFG",
        "outputId": "ab0136ed-35d8-4bfc-b4e1-5226fe00b519"
      },
      "execution_count": null,
      "outputs": [
        {
          "output_type": "stream",
          "name": "stdout",
          "text": [
            "Key 4 has 5 Counts\n",
            "Key 3 has 10 Counts\n",
            "Key 1 has 2 Counts\n"
          ]
        }
      ]
    },
    {
      "cell_type": "code",
      "source": [
        "# Count the unique keys\n",
        "total = Rdd.countByKey()\n",
        "\n",
        "# What is the type of total?\n",
        "print(\"The type of total is\", type(total))\n",
        "\n",
        "# Iterate over the total and print the output\n",
        "for k, v in total.items(): \n",
        "  print(\"key\", k, \"has\", v, \"counts\")"
      ],
      "metadata": {
        "colab": {
          "base_uri": "https://localhost:8080/"
        },
        "id": "kKJYYVAOm0bV",
        "outputId": "1b1cd7ce-e48f-4c95-875e-85761144ca38"
      },
      "execution_count": null,
      "outputs": [
        {
          "output_type": "stream",
          "name": "stdout",
          "text": [
            "The type of total is <class 'collections.defaultdict'>\n",
            "key 1 has 1 counts\n",
            "key 3 has 2 counts\n",
            "key 4 has 1 counts\n"
          ]
        }
      ]
    },
    {
      "cell_type": "code",
      "source": [
        "'''\n",
        "# Create a baseRDD from the file path\n",
        "baseRDD = sc.textFile(file_path)\n",
        "\n",
        "# Split the lines of baseRDD into words\n",
        "splitRDD = baseRDD.map(lambda x: x.split())\n",
        "\n",
        "# Count the total number of words\n",
        "print(\"Total number of words in splitRDD:\", splitRDD.count())\n",
        "\n",
        "# Convert the words in lower case and remove stop words from the stop_words curated list\n",
        "splitRDD_no_stop = splitRDD.filter(lambda x: x.lower() not in stop_words)\n",
        "\n",
        "# Create a tuple of the word and 1 \n",
        "splitRDD_no_stop_words = splitRDD_no_stop.map(lambda w: (w, 1))\n",
        "\n",
        "# Count of the number of occurences of each word\n",
        "resultRDD = splitRDD_no_stop_words.reduceByKey(lambda x, y: x + y)\n",
        "\n",
        "# Display the first 10 words and their frequencies from the input RDD\n",
        "for word in resultRDD.take(10):\n",
        "\tprint(word)\n",
        "\n",
        "# Swap the keys and values from the input RDD\n",
        "resultRDD_swap = resultRDD.map(lambda x: (x[1], x[0]))\n",
        "\n",
        "# Sort the keys in descending order\n",
        "resultRDD_swap_sort = resultRDD_swap.sortByKey(ascending=False)\n",
        "\n",
        "# Show the top 10 most frequent words and their frequencies from the sorted RDD\n",
        "for word in resultRDD_swap_sort.take(10):\n",
        "\tprint(\"{},{}\". format(word[1], word[0]))\n",
        "\n",
        "'''"
      ],
      "metadata": {
        "id": "3JsMLdx1xYn0",
        "colab": {
          "base_uri": "https://localhost:8080/",
          "height": 244
        },
        "outputId": "55a6e9a0-144c-4bca-bf0a-30c522e0dfa2"
      },
      "execution_count": null,
      "outputs": [
        {
          "output_type": "execute_result",
          "data": {
            "text/plain": [
              "'\\n# Create a baseRDD from the file path\\nbaseRDD = sc.textFile(file_path)\\n\\n# Split the lines of baseRDD into words\\nsplitRDD = baseRDD.map(lambda x: x.split())\\n\\n# Count the total number of words\\nprint(\"Total number of words in splitRDD:\", splitRDD.count())\\n\\n# Convert the words in lower case and remove stop words from the stop_words curated list\\nsplitRDD_no_stop = splitRDD.filter(lambda x: x.lower() not in stop_words)\\n\\n# Create a tuple of the word and 1 \\nsplitRDD_no_stop_words = splitRDD_no_stop.map(lambda w: (w, 1))\\n\\n# Count of the number of occurences of each word\\nresultRDD = splitRDD_no_stop_words.reduceByKey(lambda x, y: x + y)\\n\\n# Display the first 10 words and their frequencies from the input RDD\\nfor word in resultRDD.take(10):\\n\\tprint(word)\\n\\n# Swap the keys and values from the input RDD\\nresultRDD_swap = resultRDD.map(lambda x: (x[1], x[0]))\\n\\n# Sort the keys in descending order\\nresultRDD_swap_sort = resultRDD_swap.sortByKey(ascending=False)\\n\\n# Show the top 10 most frequent words and their frequencies from the sorted RDD\\nfor word in resultRDD_swap_sort.take(10):\\n\\tprint(\"{},{}\". format(word[1], word[0]))\\n\\n'"
            ],
            "application/vnd.google.colaboratory.intrinsic+json": {
              "type": "string"
            }
          },
          "metadata": {},
          "execution_count": 18
        }
      ]
    },
    {
      "cell_type": "code",
      "source": [
        "sample_list  = [('Mona', 20), ('Jennifer', 34), ('John', 20), ('Jim', 26)]\n",
        "\n",
        "# Create an RDD from the list\n",
        "rdd = sc.parallelize(sample_list)\n",
        "\n",
        "# Create a PySpark DataFrame\n",
        "names_df = spark.createDataFrame(rdd, schema=['Name', 'Age'])\n",
        "\n",
        "# Check the type of names_df\n",
        "print(\"The type of names_df is\", type(names_df))"
      ],
      "metadata": {
        "colab": {
          "base_uri": "https://localhost:8080/"
        },
        "id": "guDeWxPLzOOS",
        "outputId": "85657512-f223-47ef-9257-59fd96b614c1"
      },
      "execution_count": null,
      "outputs": [
        {
          "output_type": "stream",
          "name": "stdout",
          "text": [
            "The type of names_df is <class 'pyspark.sql.dataframe.DataFrame'>\n"
          ]
        }
      ]
    },
    {
      "cell_type": "code",
      "source": [
        "file_path = '/content/Sample-Spreadsheet-100-rows.csv'\n",
        "# Create a DataFrame from file_path\n",
        "people_df = spark.read.csv(file_path, header=False, inferSchema=True)\n",
        "\n",
        "# Check the type of people_df\n",
        "print(\"The type of people_df is\", type(people_df))"
      ],
      "metadata": {
        "colab": {
          "base_uri": "https://localhost:8080/"
        },
        "id": "xr1aZdAz1eTC",
        "outputId": "7b6e1835-102c-4e6b-97ee-080480842f83"
      },
      "execution_count": null,
      "outputs": [
        {
          "output_type": "stream",
          "name": "stdout",
          "text": [
            "The type of people_df is <class 'pyspark.sql.dataframe.DataFrame'>\n"
          ]
        }
      ]
    },
    {
      "cell_type": "code",
      "source": [
        "# Print the first 10 observations \n",
        "people_df.show(10)\n",
        "\n",
        "# Count the number of rows \n",
        "print(\"There are {} rows in the people_df DataFrame.\".format(people_df.count()))\n",
        "\n",
        "# Count the number of columns and their names\n",
        "print(\"There are {} columns in the people_df DataFrame and their names are {}\"\\\n",
        "      .format(len(people_df.columns), people_df.columns))"
      ],
      "metadata": {
        "colab": {
          "base_uri": "https://localhost:8080/"
        },
        "id": "q5xgARaShukG",
        "outputId": "210b615e-aa88-430d-8bbe-d626902cf089"
      },
      "execution_count": null,
      "outputs": [
        {
          "output_type": "stream",
          "name": "stdout",
          "text": [
            "+---+--------------------+------------------+---+-------+------+-----+-------+--------------------+----+\n",
            "|_c0|                 _c1|               _c2|_c3|    _c4|   _c5|  _c6|    _c7|                 _c8| _c9|\n",
            "+---+--------------------+------------------+---+-------+------+-----+-------+--------------------+----+\n",
            "|  1|Eldon Base for st...|Muhammed MacIntyre|  3|-213.25| 38.94| 35.0|Nunavut|Storage & Organiz...| 0.8|\n",
            "|  2|\"1.7 Cubic Foot C...|      Barry French|293| 457.81|208.16|68.02|Nunavut|          Appliances|0.58|\n",
            "|  3|Cardinal Slant-D�...|      Barry French|293|  46.71|  8.69| 2.99|Nunavut|Binders and Binde...|0.39|\n",
            "|  4|                R380|     Clay Rozendal|483|1198.97|195.99| 3.99|Nunavut|Telephones and Co...|0.58|\n",
            "|  5|Holmes HEPA Air P...|    Carlos Soltero|515|  30.94| 21.78| 5.94|Nunavut|          Appliances| 0.5|\n",
            "|  6|G.E. Longer-Life ...|    Carlos Soltero|515|   4.43|  6.64| 4.95|Nunavut|  Office Furnishings|0.37|\n",
            "|  7|Angle-D Binders w...|      Carl Jackson|613| -54.04|   7.3| 7.72|Nunavut|Binders and Binde...|0.38|\n",
            "|  8|SAFCO Mobile Desk...|      Carl Jackson|613|  127.7| 42.76| 6.22|Nunavut|Storage & Organiz...|null|\n",
            "|  9|SAFCO Commercial ...|    Monica Federle|643|-695.26|138.14| 35.0|Nunavut|Storage & Organiz...|null|\n",
            "| 10|           Xerox 198|   Dorothy Badders|678|-226.36|  4.98| 8.33|Nunavut|               Paper|0.38|\n",
            "+---+--------------------+------------------+---+-------+------+-----+-------+--------------------+----+\n",
            "only showing top 10 rows\n",
            "\n",
            "There are 100 rows in the people_df DataFrame.\n",
            "There are 10 columns in the people_df DataFrame and their names are ['_c0', '_c1', '_c2', '_c3', '_c4', '_c5', '_c6', '_c7', '_c8', '_c9']\n"
          ]
        }
      ]
    },
    {
      "cell_type": "code",
      "source": [
        "# Print the first 10 observations \n",
        "people_df.show(10)\n",
        "\n",
        "# Count the number of rows \n",
        "print(\"There are {} rows in the people_df DataFrame.\"\\\n",
        "      .format(people_df.count()))\n",
        "\n",
        "# Count the number of columns and their names\n",
        "print(\"There are {} columns in the people_df DataFrame and their names are {}\"\\\n",
        "      .format(len(people_df.columns), people_df.columns))"
      ],
      "metadata": {
        "colab": {
          "base_uri": "https://localhost:8080/"
        },
        "id": "P_wcwNepiBWn",
        "outputId": "373bb589-e34e-4f0a-cdaa-0ea78f79f088"
      },
      "execution_count": null,
      "outputs": [
        {
          "output_type": "stream",
          "name": "stdout",
          "text": [
            "+---+--------------------+------------------+---+-------+------+-----+-------+--------------------+----+\n",
            "|_c0|                 _c1|               _c2|_c3|    _c4|   _c5|  _c6|    _c7|                 _c8| _c9|\n",
            "+---+--------------------+------------------+---+-------+------+-----+-------+--------------------+----+\n",
            "|  1|Eldon Base for st...|Muhammed MacIntyre|  3|-213.25| 38.94| 35.0|Nunavut|Storage & Organiz...| 0.8|\n",
            "|  2|\"1.7 Cubic Foot C...|      Barry French|293| 457.81|208.16|68.02|Nunavut|          Appliances|0.58|\n",
            "|  3|Cardinal Slant-D�...|      Barry French|293|  46.71|  8.69| 2.99|Nunavut|Binders and Binde...|0.39|\n",
            "|  4|                R380|     Clay Rozendal|483|1198.97|195.99| 3.99|Nunavut|Telephones and Co...|0.58|\n",
            "|  5|Holmes HEPA Air P...|    Carlos Soltero|515|  30.94| 21.78| 5.94|Nunavut|          Appliances| 0.5|\n",
            "|  6|G.E. Longer-Life ...|    Carlos Soltero|515|   4.43|  6.64| 4.95|Nunavut|  Office Furnishings|0.37|\n",
            "|  7|Angle-D Binders w...|      Carl Jackson|613| -54.04|   7.3| 7.72|Nunavut|Binders and Binde...|0.38|\n",
            "|  8|SAFCO Mobile Desk...|      Carl Jackson|613|  127.7| 42.76| 6.22|Nunavut|Storage & Organiz...|null|\n",
            "|  9|SAFCO Commercial ...|    Monica Federle|643|-695.26|138.14| 35.0|Nunavut|Storage & Organiz...|null|\n",
            "| 10|           Xerox 198|   Dorothy Badders|678|-226.36|  4.98| 8.33|Nunavut|               Paper|0.38|\n",
            "+---+--------------------+------------------+---+-------+------+-----+-------+--------------------+----+\n",
            "only showing top 10 rows\n",
            "\n",
            "There are 100 rows in the people_df DataFrame.\n",
            "There are 10 columns in the people_df DataFrame and their names are ['_c0', '_c1', '_c2', '_c3', '_c4', '_c5', '_c6', '_c7', '_c8', '_c9']\n"
          ]
        }
      ]
    },
    {
      "cell_type": "code",
      "source": [
        "# Select _c0,_c1,_c2 of birth columns\n",
        "people_df_sub = people_df.select('_c0', \"_c1\", \"_c2\")\n",
        "\n",
        "# Print the first 10 observations from people_df_sub\n",
        "people_df_sub.show(10)\n",
        "\n",
        "# Remove duplicate entries from people_df_sub\n",
        "people_df_sub_nodup = people_df_sub.dropDuplicates()\n",
        "\n",
        "# Count the number of rows\n",
        "print(\"There were {} rows before removing duplicates, and {} rows after removing duplicates\"\\\n",
        "      .format(people_df_sub.count(), people_df_sub_nodup.count()))"
      ],
      "metadata": {
        "colab": {
          "base_uri": "https://localhost:8080/"
        },
        "id": "6dt8VF-ZkGp5",
        "outputId": "5558d391-2de2-4570-be6f-98aff0f0fa18"
      },
      "execution_count": null,
      "outputs": [
        {
          "output_type": "stream",
          "name": "stdout",
          "text": [
            "+---+--------------------+------------------+\n",
            "|_c0|                 _c1|               _c2|\n",
            "+---+--------------------+------------------+\n",
            "|  1|Eldon Base for st...|Muhammed MacIntyre|\n",
            "|  2|\"1.7 Cubic Foot C...|      Barry French|\n",
            "|  3|Cardinal Slant-D�...|      Barry French|\n",
            "|  4|                R380|     Clay Rozendal|\n",
            "|  5|Holmes HEPA Air P...|    Carlos Soltero|\n",
            "|  6|G.E. Longer-Life ...|    Carlos Soltero|\n",
            "|  7|Angle-D Binders w...|      Carl Jackson|\n",
            "|  8|SAFCO Mobile Desk...|      Carl Jackson|\n",
            "|  9|SAFCO Commercial ...|    Monica Federle|\n",
            "| 10|           Xerox 198|   Dorothy Badders|\n",
            "+---+--------------------+------------------+\n",
            "only showing top 10 rows\n",
            "\n",
            "There were 100 rows before removing duplicates, and 100 rows after removing duplicates\n"
          ]
        }
      ]
    },
    {
      "cell_type": "code",
      "source": [
        "# Filter people_df to select Nunavut \n",
        "people_df_Nunavut = people_df.filter(people_df._c7 == \"Nunavut\")\n",
        "\n",
        "# Filter people_df to select Northwest Territories\n",
        "people_df_nt = people_df.filter(people_df._c7 == \"Northwest Territories\")\n",
        "\n",
        "# Count the number of rows \n",
        "print(\"There are {} rows in the people_df_female DataFrame and {} rows in the people_df_male DataFrame\"\\\n",
        "      .format(people_df_Nunavut.count(), people_df_nt.count()))"
      ],
      "metadata": {
        "colab": {
          "base_uri": "https://localhost:8080/"
        },
        "id": "TwUu63D_kSIV",
        "outputId": "96b7234f-71de-4b64-8674-14601a33446f"
      },
      "execution_count": null,
      "outputs": [
        {
          "output_type": "stream",
          "name": "stdout",
          "text": [
            "There are 75 rows in the people_df_female DataFrame and 20 rows in the people_df_male DataFrame\n"
          ]
        }
      ]
    },
    {
      "cell_type": "code",
      "source": [
        "# Create a temporary table \"people\"\n",
        "people_df.createOrReplaceTempView(\"people\")\n",
        "\n",
        "# Construct a query to select the names of the people from the temporary table \"people\"\n",
        "query = '''SELECT _c2 FROM people'''\n",
        "\n",
        "# Assign the result of Spark's query to people_df_names\n",
        "people_df_names = spark.sql(query)\n",
        "\n",
        "# Print the top 10 names of the people\n",
        "people_df_names.show(10)"
      ],
      "metadata": {
        "colab": {
          "base_uri": "https://localhost:8080/"
        },
        "id": "L1f4Tg0PmdUr",
        "outputId": "03f37e6b-6118-4c67-d842-b0948668ed5d"
      },
      "execution_count": null,
      "outputs": [
        {
          "output_type": "stream",
          "name": "stdout",
          "text": [
            "+------------------+\n",
            "|               _c2|\n",
            "+------------------+\n",
            "|Muhammed MacIntyre|\n",
            "|      Barry French|\n",
            "|      Barry French|\n",
            "|     Clay Rozendal|\n",
            "|    Carlos Soltero|\n",
            "|    Carlos Soltero|\n",
            "|      Carl Jackson|\n",
            "|      Carl Jackson|\n",
            "|    Monica Federle|\n",
            "|   Dorothy Badders|\n",
            "+------------------+\n",
            "only showing top 10 rows\n",
            "\n"
          ]
        }
      ]
    },
    {
      "cell_type": "code",
      "source": [
        "# Filter the people table to select female sex \n",
        "people_Nunavut_df = spark.sql('SELECT * FROM people WHERE _c7==\"Nunavut\"')\n",
        "\n",
        "# Filter the people table DataFrame to select male sex\n",
        "people_nt_df = spark.sql('SELECT * FROM people WHERE _c7==\"Northwest Territories\"')\n",
        "\n",
        "# Count the number of rows in both DataFrames\n",
        "print(\"There are {} rows in the people_female_df and {} rows in the people_male_df DataFrames\"\\\n",
        "      .format(people_Nunavut_df.count(), people_nt_df.count()))"
      ],
      "metadata": {
        "colab": {
          "base_uri": "https://localhost:8080/"
        },
        "id": "EEc4ff-SruFD",
        "outputId": "0905f4e0-bb96-46da-ad3b-849d8ce33d86"
      },
      "execution_count": null,
      "outputs": [
        {
          "output_type": "stream",
          "name": "stdout",
          "text": [
            "There are 75 rows in the people_female_df and 20 rows in the people_male_df DataFrames\n"
          ]
        }
      ]
    },
    {
      "cell_type": "code",
      "source": [
        "# Check the column names of names_df\n",
        "print(\"The column names of names_df are\", names_df.columns)\n",
        "\n",
        "# Convert to Pandas DataFrame  \n",
        "df_pandas = names_df.toPandas()\n",
        "\n",
        "import matplotlib.pyplot as plt\n",
        "\n",
        "# Create a horizontal bar plot\n",
        "df_pandas.plot(kind='barh', x='Name', y='Age', colormap='winter_r')\n",
        "plt.show()"
      ],
      "metadata": {
        "colab": {
          "base_uri": "https://localhost:8080/",
          "height": 282
        },
        "id": "Hf7dHCgtuLEY",
        "outputId": "a1630ce4-f07d-4b98-e65b-4d1b78086be1"
      },
      "execution_count": null,
      "outputs": [
        {
          "output_type": "stream",
          "name": "stdout",
          "text": [
            "The column names of names_df are ['Name', 'Age']\n"
          ]
        },
        {
          "output_type": "display_data",
          "data": {
            "text/plain": [
              "<Figure size 432x288 with 1 Axes>"
            ],
            "image/png": "[encoded data removed]"
          },
          "metadata": {
            "needs_background": "light"
          }
        }
      ]
    },
    {
      "cell_type": "code",
      "source": [
        "# Load the Dataframe\n",
        "fifa_df = people_df\n",
        "\n",
        "# Check the schema of columns\n",
        "fifa_df.printSchema()\n",
        "\n",
        "# Show the first 10 observations\n",
        "fifa_df.show(10)\n",
        "\n",
        "# Print the total number of rows\n",
        "print(\"There are {} rows in the fifa_df DataFrame\".format(fifa_df.count()))"
      ],
      "metadata": {
        "colab": {
          "base_uri": "https://localhost:8080/"
        },
        "id": "Z-du3SRCyLeJ",
        "outputId": "c454c872-65cd-449c-a6d6-d4d93cade31a"
      },
      "execution_count": null,
      "outputs": [
        {
          "output_type": "stream",
          "name": "stdout",
          "text": [
            "root\n",
            " |-- _c0: integer (nullable = true)\n",
            " |-- _c1: string (nullable = true)\n",
            " |-- _c2: string (nullable = true)\n",
            " |-- _c3: string (nullable = true)\n",
            " |-- _c4: double (nullable = true)\n",
            " |-- _c5: double (nullable = true)\n",
            " |-- _c6: double (nullable = true)\n",
            " |-- _c7: string (nullable = true)\n",
            " |-- _c8: string (nullable = true)\n",
            " |-- _c9: string (nullable = true)\n",
            "\n",
            "+---+--------------------+------------------+---+-------+------+-----+-------+--------------------+----+\n",
            "|_c0|                 _c1|               _c2|_c3|    _c4|   _c5|  _c6|    _c7|                 _c8| _c9|\n",
            "+---+--------------------+------------------+---+-------+------+-----+-------+--------------------+----+\n",
            "|  1|Eldon Base for st...|Muhammed MacIntyre|  3|-213.25| 38.94| 35.0|Nunavut|Storage & Organiz...| 0.8|\n",
            "|  2|\"1.7 Cubic Foot C...|      Barry French|293| 457.81|208.16|68.02|Nunavut|          Appliances|0.58|\n",
            "|  3|Cardinal Slant-D�...|      Barry French|293|  46.71|  8.69| 2.99|Nunavut|Binders and Binde...|0.39|\n",
            "|  4|                R380|     Clay Rozendal|483|1198.97|195.99| 3.99|Nunavut|Telephones and Co...|0.58|\n",
            "|  5|Holmes HEPA Air P...|    Carlos Soltero|515|  30.94| 21.78| 5.94|Nunavut|          Appliances| 0.5|\n",
            "|  6|G.E. Longer-Life ...|    Carlos Soltero|515|   4.43|  6.64| 4.95|Nunavut|  Office Furnishings|0.37|\n",
            "|  7|Angle-D Binders w...|      Carl Jackson|613| -54.04|   7.3| 7.72|Nunavut|Binders and Binde...|0.38|\n",
            "|  8|SAFCO Mobile Desk...|      Carl Jackson|613|  127.7| 42.76| 6.22|Nunavut|Storage & Organiz...|null|\n",
            "|  9|SAFCO Commercial ...|    Monica Federle|643|-695.26|138.14| 35.0|Nunavut|Storage & Organiz...|null|\n",
            "| 10|           Xerox 198|   Dorothy Badders|678|-226.36|  4.98| 8.33|Nunavut|               Paper|0.38|\n",
            "+---+--------------------+------------------+---+-------+------+-----+-------+--------------------+----+\n",
            "only showing top 10 rows\n",
            "\n",
            "There are 100 rows in the fifa_df DataFrame\n"
          ]
        }
      ]
    },
    {
      "cell_type": "code",
      "source": [
        "# Create a temporary view of fifa_df\n",
        "fifa_df.createOrReplaceTempView('fifa_df_table')\n",
        "\n",
        "# Construct the \"query\"\n",
        "query = '''SELECT _c5 FROM fifa_df_table WHERE _c8 == \"Paper\"'''\n",
        "\n",
        "# Apply the SQL \"query\"\n",
        "fifa_df_germany_age = spark.sql(query)\n",
        "\n",
        "# Generate basic statistics\n",
        "fifa_df_germany_age.describe().show()"
      ],
      "metadata": {
        "colab": {
          "base_uri": "https://localhost:8080/"
        },
        "id": "RwYHT2Su0GfF",
        "outputId": "326698ab-7691-4b16-b4f8-641614597e75"
      },
      "execution_count": null,
      "outputs": [
        {
          "output_type": "stream",
          "name": "stdout",
          "text": [
            "+-------+------------------+\n",
            "|summary|               _c5|\n",
            "+-------+------------------+\n",
            "|  count|                18|\n",
            "|   mean| 13.80722222222222|\n",
            "| stddev|12.777748952794994|\n",
            "|    min|              3.98|\n",
            "|    max|             48.91|\n",
            "+-------+------------------+\n",
            "\n"
          ]
        }
      ]
    },
    {
      "cell_type": "code",
      "source": [
        "# Convert fifa_df to fifa_df_germany_age_pandas DataFrame\n",
        "fifa_df_germany_age_pandas = fifa_df_germany_age.toPandas()\n",
        "\n",
        "# Plot the 'Age' density of Germany Players\n",
        "fifa_df_germany_age_pandas[\"_c5\"].plot(kind='density')\n",
        "plt.show()"
      ],
      "metadata": {
        "colab": {
          "base_uri": "https://localhost:8080/",
          "height": 265
        },
        "id": "5_ZWPgl21k3v",
        "outputId": "dfb8b5e3-a844-4d6d-cbf1-e8ae8524383c"
      },
      "execution_count": null,
      "outputs": [
        {
          "output_type": "display_data",
          "data": {
            "text/plain": [
              "<Figure size 432x288 with 1 Axes>"
            ],
            "image/png": "[encoded data removed]"
          },
          "metadata": {
            "needs_background": "light"
          }
        }
      ]
    },
    {
      "cell_type": "code",
      "source": [
        "# Import the library for ALS\n",
        "from pyspark.mllib.recommendation import ALS\n",
        "\n",
        "# Import the library for Logistic Regression\n",
        "from pyspark.mllib.classification import LogisticRegressionWithLBFGS\n",
        "\n",
        "# Import the library for Kmeans\n",
        "from pyspark.mllib.clustering import KMeans"
      ],
      "metadata": {
        "id": "qto1_Sgo2NX6"
      },
      "execution_count": null,
      "outputs": []
    },
    {
      "cell_type": "code",
      "source": [
        "'''\n",
        "# Load the data into RDD\n",
        "data = sc.textFile(file_path)\n",
        "\n",
        "# Split the RDD \n",
        "ratings = data.map(lambda l: l.split(','))\n",
        "\n",
        "# Transform the ratings RDD \n",
        "ratings_final = ratings.map(lambda line: Rating(int(line[0]), int(line[1]), float(line[2])))\n",
        "\n",
        "# Split the data into training and test\n",
        "training_data, test_data = ratings_final.randomSplit([0.8, 0.2])\n",
        "\n",
        "# Create the ALS model on the training data\n",
        "model = ALS.train(training_data, rank=10, iterations=10)\n",
        "\n",
        "# Drop the ratings column \n",
        "testdata_no_rating = test_data.map(lambda p: (p[0], p[1]))\n",
        "\n",
        "# Predict the model  \n",
        "predictions = model.predictAll(testdata_no_rating)\n",
        "\n",
        "# Return the first 2 rows of the RDD\n",
        "predictions.take(2)\n",
        "\n",
        "# Prepare ratings data\n",
        "rates = ratings_final.map(lambda r: ((r[0], r[1]), r[2]))\n",
        "\n",
        "# Prepare predictions data\n",
        "preds = predictions.map(lambda r: ((r[0], r[1]), r[2]))\n",
        "\n",
        "# Join the ratings data with predictions data\n",
        "rates_and_preds = rates.join(preds)\n",
        "\n",
        "# Calculate and print MSE\n",
        "MSE = rates_and_preds.map(lambda r: (r[1][0] - r[1][1])**2).mean()\n",
        "print(\"Mean Squared Error of the model for the test data = {:.2f}\".format(MSE))\n",
        "\n",
        "'''"
      ],
      "metadata": {
        "colab": {
          "base_uri": "https://localhost:8080/",
          "height": 244
        },
        "id": "YsfUDAjoSgBg",
        "outputId": "41006cbc-ef64-4fba-b308-684a8b9d7677"
      },
      "execution_count": null,
      "outputs": [
        {
          "output_type": "execute_result",
          "data": {
            "text/plain": [
              "'\\n# Load the data into RDD\\ndata = sc.textFile(file_path)\\n\\n# Split the RDD \\nratings = data.map(lambda l: l.split(\\',\\'))\\n\\n# Transform the ratings RDD \\nratings_final = ratings.map(lambda line: Rating(int(line[0]), int(line[1]), float(line[2])))\\n\\n# Split the data into training and test\\ntraining_data, test_data = ratings_final.randomSplit([0.8, 0.2])\\n\\n# Create the ALS model on the training data\\nmodel = ALS.train(training_data, rank=10, iterations=10)\\n\\n# Drop the ratings column \\ntestdata_no_rating = test_data.map(lambda p: (p[0], p[1]))\\n\\n# Predict the model  \\npredictions = model.predictAll(testdata_no_rating)\\n\\n# Return the first 2 rows of the RDD\\npredictions.take(2)\\n\\n# Prepare ratings data\\nrates = ratings_final.map(lambda r: ((r[0], r[1]), r[2]))\\n\\n# Prepare predictions data\\npreds = predictions.map(lambda r: ((r[0], r[1]), r[2]))\\n\\n# Join the ratings data with predictions data\\nrates_and_preds = rates.join(preds)\\n\\n# Calculate and print MSE\\nMSE = rates_and_preds.map(lambda r: (r[1][0] - r[1][1])**2).mean()\\nprint(\"Mean Squared Error of the model for the test data = {:.2f}\".format(MSE))\\n\\n'"
            ],
            "application/vnd.google.colaboratory.intrinsic+json": {
              "type": "string"
            }
          },
          "metadata": {},
          "execution_count": 1
        }
      ]
    },
    {
      "cell_type": "code",
      "source": [
        "'''\n",
        "# Load the datasets into RDDs\n",
        "spam_rdd = sc.textFile(file_path_spam)\n",
        "non_spam_rdd = sc.textFile(file_path_non_spam)\n",
        "\n",
        "# Split the email messages into words\n",
        "spam_words = spam_rdd.map(lambda email: email.split(' '))\n",
        "non_spam_words = non_spam_rdd.map(lambda email: email.split(' '))\n",
        "\n",
        "# Print the first element in the split RDD\n",
        "print(\"The first element in spam_words is\", spam_words.first())\n",
        "print(\"The first element in non_spam_words is\", non_spam_words.first())\n",
        "\n",
        "# Load the datasets into RDDs\n",
        "spam_rdd = sc.textFile(file_path_spam)\n",
        "non_spam_rdd = sc.textFile(file_path_non_spam)\n",
        "\n",
        "# Split the email messages into words\n",
        "spam_words = spam_rdd.flatMap(lambda email: email.split(' '))\n",
        "non_spam_words = non_spam_rdd.flatMap(lambda email: email.split(' '))\n",
        "\n",
        "# Print the first element in the split RDD\n",
        "print(\"The first element in spam_words is\", spam_words.first())\n",
        "print(\"The first element in non_spam_words is\", non_spam_words.first())\n",
        "\n",
        "\n",
        "# Create a HashingTf instance with 200 features\n",
        "tf = HashingTF(numFeatures=200)\n",
        "\n",
        "# Map each word to one feature\n",
        "spam_features = tf.transform(spam_words)\n",
        "non_spam_features = tf.transform(non_spam_words)\n",
        "\n",
        "# Label the features: 1 for spam, 0 for non-spam\n",
        "spam_samples = spam_features.map(lambda features:LabeledPoint(1, features))\n",
        "non_spam_samples = non_spam_features.map(lambda features:LabeledPoint(0, features))\n",
        "\n",
        "# Combine the two datasets\n",
        "samples = spam_samples.join(non_spam_samples)\n",
        "\n",
        "# Split the data into training and testing\n",
        "train_samples,test_samples = samples.randomSplit([0.8, 0.2])\n",
        "\n",
        "# Train the model\n",
        "model = LogisticRegressionWithLBFGS.train(train_samples)\n",
        "\n",
        "# Create a prediction label from the test data\n",
        "predictions = model.predict(test_samples.map(lambda x: x.features))\n",
        "\n",
        "# Combine original labels with the predicted labels\n",
        "labels_and_preds = test_samples.map(lambda x: x.label).zip(predictions)\n",
        "\n",
        "# Check the accuracy of the model on the test data\n",
        "accuracy = labels_and_preds.filter(lambda x: x[0] == x[1]).count() / float(test_samples.count())\n",
        "print(\"Model accuracy : {:.2f}\".format(accuracy))\n",
        "\n",
        "'''"
      ],
      "metadata": {
        "colab": {
          "base_uri": "https://localhost:8080/",
          "height": 244
        },
        "id": "ncEBwppI1elc",
        "outputId": "6a0a02ce-d1b6-4303-cb02-c9094737f27c"
      },
      "execution_count": null,
      "outputs": [
        {
          "output_type": "execute_result",
          "data": {
            "text/plain": [
              "'\\n# Load the datasets into RDDs\\nspam_rdd = sc.textFile(file_path_spam)\\nnon_spam_rdd = sc.textFile(file_path_non_spam)\\n\\n# Split the email messages into words\\nspam_words = spam_rdd.map(lambda email: email.split(\\' \\'))\\nnon_spam_words = non_spam_rdd.map(lambda email: email.split(\\' \\'))\\n\\n# Print the first element in the split RDD\\nprint(\"The first element in spam_words is\", spam_words.first())\\nprint(\"The first element in non_spam_words is\", non_spam_words.first())\\n\\n# Load the datasets into RDDs\\nspam_rdd = sc.textFile(file_path_spam)\\nnon_spam_rdd = sc.textFile(file_path_non_spam)\\n\\n# Split the email messages into words\\nspam_words = spam_rdd.flatMap(lambda email: email.split(\\' \\'))\\nnon_spam_words = non_spam_rdd.flatMap(lambda email: email.split(\\' \\'))\\n\\n# Print the first element in the split RDD\\nprint(\"The first element in spam_words is\", spam_words.first())\\nprint(\"The first element in non_spam_words is\", non_spam_words.first())\\n\\n\\n# Create a HashingTf instance with 200 features\\ntf = HashingTF(numFeatures=200)\\n\\n# Map each word to one feature\\nspam_features = tf.transform(spam_words)\\nnon_spam_features = tf.transform(non_spam_words)\\n\\n# Label the features: 1 for spam, 0 for non-spam\\nspam_samples = spam_features.map(lambda features:LabeledPoint(1, features))\\nnon_spam_samples = non_spam_features.map(lambda features:LabeledPoint(0, features))\\n\\n# Combine the two datasets\\nsamples = spam_samples.join(non_spam_samples)\\n\\n# Split the data into training and testing\\ntrain_samples,test_samples = samples.randomSplit([0.8, 0.2])\\n\\n# Train the model\\nmodel = LogisticRegressionWithLBFGS.train(train_samples)\\n\\n# Create a prediction label from the test data\\npredictions = model.predict(test_samples.map(lambda x: x.features))\\n\\n# Combine original labels with the predicted labels\\nlabels_and_preds = test_samples.map(lambda x: x.label).zip(predictions)\\n\\n# Check the accuracy of the model on the test data\\naccuracy = labels_and_preds.filter(lambda x: x[0] == x[1]).count() / float(test_samples.count())\\nprint(\"Model accuracy : {:.2f}\".format(accuracy))\\n\\n'"
            ],
            "application/vnd.google.colaboratory.intrinsic+json": {
              "type": "string"
            }
          },
          "metadata": {},
          "execution_count": 2
        }
      ]
    },
    {
      "cell_type": "code",
      "source": [
        "'''\n",
        "# Load the dataset into an RDD\n",
        "clusterRDD = sc.textFile(file_path)\n",
        "\n",
        "# Split the RDD based on tab\n",
        "rdd_split = clusterRDD.map(lambda x: x.split(\"\\t\"))\n",
        "\n",
        "# Transform the split RDD by creating a list of integers\n",
        "rdd_split_int = rdd_split.map(lambda x: [int(x[0]), int(x[1])])\n",
        "\n",
        "# Count the number of rows in RDD \n",
        "print(\"There are {} rows in the rdd_split_int dataset\".format(rdd_split_int.count()))\n",
        "\n",
        "# Load the dataset into an RDD\n",
        "clusterRDD = sc.textFile(file_path)\n",
        "\n",
        "# Split the RDD based on tab\n",
        "rdd_split = clusterRDD.map(lambda x: x.split(\"\\t\"))\n",
        "\n",
        "# Transform the split RDD by creating a list of integers\n",
        "rdd_split_int = rdd_split.map(lambda x: [int(x[0]), int(x[1])])\n",
        "\n",
        "# Count the number of rows in RDD \n",
        "print(\"There are {} rows in the rdd_split_int dataset\".format(rdd_split_int.count()))\n",
        "\n",
        "# Train the model with clusters from 13 to 16 and compute WSSSE\n",
        "for clst in range(13, 17):\n",
        "    model = KMeans.train(rdd_split_int, clst, seed=1)\n",
        "    WSSSE = rdd_split_int.map(lambda point: error(point)).reduce(lambda x, y: x + y)\n",
        "    print(\"The cluster {} has Within Set Sum of Squared Error {}\".format(clst, WSSSE))\n",
        "\n",
        "# Train the model again with the best k\n",
        "model = KMeans.train(rdd_split_int, k=15, seed=1)\n",
        "\n",
        "# Get cluster centers\n",
        "cluster_centers = model.clusterCenters\n",
        "\n",
        "# Convert rdd_split_int RDD into Spark DataFrame and then to Pandas DataFrame\n",
        "rdd_split_int_df_pandas = spark.createDataFrame(rdd_split_int, schema=[\"col1\", \"col2\"]).toPandas()\n",
        "\n",
        "# Convert cluster_centers to a pandas DataFrame\n",
        "cluster_centers_pandas = pd.DataFrame(cluster_centers, columns=[\"col1\", \"col2\"])\n",
        "\n",
        "# Create an overlaid scatter plot of clusters and centroids\n",
        "plt.scatter(rdd_split_int_df_pandas[\"col1\"], rdd_split_int_df_pandas[\"col2\"])\n",
        "plt.scatter(cluster_centers_pandas[\"col1\"], cluster_centers_pandas[\"col2\"], color=\"red\", marker=\"x\")\n",
        "plt.show()\n",
        "\n",
        "'''"
      ],
      "metadata": {
        "id": "ja5TcjP49Ksn"
      },
      "execution_count": null,
      "outputs": []
    }
  ]
}